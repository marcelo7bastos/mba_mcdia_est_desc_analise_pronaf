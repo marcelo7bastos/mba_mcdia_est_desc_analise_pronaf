{
  "nbformat": 4,
  "nbformat_minor": 0,
  "metadata": {
    "colab": {
      "provenance": [],
      "mount_file_id": "1OIeJCBShtdx0oB_UuH5d865kVX_dklQG",
      "authorship_tag": "ABX9TyMbgboqupXZUcWJhyeQAh0l",
      "include_colab_link": true
    },
    "kernelspec": {
      "name": "python3",
      "display_name": "Python 3"
    },
    "language_info": {
      "name": "python"
    }
  },
  "cells": [
    {
      "cell_type": "markdown",
      "metadata": {
        "id": "view-in-github",
        "colab_type": "text"
      },
      "source": [
        "<a href=\"https://colab.research.google.com/github/marcelo7bastos/mba_mcdia_est_desc_analise_pronaf/blob/main/mba_mcdia_est_desc_analise_pronaf.ipynb\" target=\"_parent\"><img src=\"https://colab.research.google.com/assets/colab-badge.svg\" alt=\"Open In Colab\"/></a>"
      ]
    },
    {
      "cell_type": "markdown",
      "source": [
        "# **Projeto Final - Estatística Descritiva**"
      ],
      "metadata": {
        "id": "2ZtldUE22-DX"
      }
    },
    {
      "cell_type": "markdown",
      "source": [
        "\n",
        "## **O acesso ao crédito do PRONAF resultou em melhoria nas condições econômicas dos agricultores familiares ao longo de 10 anos?**"
      ],
      "metadata": {
        "id": "6A6ttr3222MS"
      }
    },
    {
      "cell_type": "markdown",
      "source": [
        "# Preparação do Ambiente e Dados"
      ],
      "metadata": {
        "id": "AoePlHOc3DuY"
      }
    },
    {
      "cell_type": "code",
      "source": [
        "# Bibliotecas\n",
        "import pandas as pd\n",
        "import numpy as np\n",
        "import matplotlib.pyplot as plt\n",
        "import seaborn as sns"
      ],
      "metadata": {
        "id": "ZiZhCzVU3DPk"
      },
      "execution_count": 1,
      "outputs": []
    },
    {
      "cell_type": "code",
      "source": [
        "from google.colab import drive\n",
        "drive.mount('/content/drive')\n"
      ],
      "metadata": {
        "colab": {
          "base_uri": "https://localhost:8080/"
        },
        "id": "HNYs1i_11tQt",
        "outputId": "35a253db-e7a8-4594-fe6e-40b2bf5c1cee"
      },
      "execution_count": 2,
      "outputs": [
        {
          "output_type": "stream",
          "name": "stdout",
          "text": [
            "Drive already mounted at /content/drive; to attempt to forcibly remount, call drive.mount(\"/content/drive\", force_remount=True).\n"
          ]
        }
      ]
    },
    {
      "cell_type": "code",
      "source": [
        "# Define o caminho da pasta onde os arquivos serão armazenados/recuperados\n",
        "drive_folder = '/content/drive/MyDrive/ENAP_MBA_MCDIA/005_estatistica/trabalho_final/data'\n",
        "\n",
        "# Parâmetros da análise\n",
        "MODO_ANALISE = \"amostra\"  # Opções: \"amostra\", \"nova_amostra\", \"populacao\"\n",
        "FRAC_AMOSTRA = 0.1  # 10% da base para amostragem\n",
        "\n",
        "# Estrutura de decisão para carregar os dados\n",
        "if MODO_ANALISE == \"amostra\":\n",
        "    print(\"🔹 Carregando apenas uma amostra do dataset...\")\n",
        "    # Caminho para o arquivo de amostra já salvo no Google Drive\n",
        "    arquivo_parquet = f\"{drive_folder}/pronaf_amostra.parquet\"\n",
        "    df = pd.read_parquet(arquivo_parquet)\n",
        "\n",
        "elif MODO_ANALISE == \"populacao\":\n",
        "    print(\"🔹 Carregando a população completa (isso pode demorar)...\")\n",
        "    arquivo_parquet = f\"{drive_folder}/pronaf.parquet\"\n",
        "    # Carrega o arquivo\n",
        "    df = pd.read_parquet(arquivo_parquet)\n",
        "\n",
        "else:\n",
        "    raise ValueError(\"Modo de análise inválido! Escolha entre: 'amostra', 'nova_amostra' ou 'populacao'.\")\n",
        "\n",
        "# Exibir informações do dataset carregado\n",
        "print(f\"Número total de registros carregados: {df.shape[0]:,}\".replace(\",\", \".\"))\n",
        "\n"
      ],
      "metadata": {
        "colab": {
          "base_uri": "https://localhost:8080/"
        },
        "id": "VaYJ2VUN3t28",
        "outputId": "a7758294-df96-469b-cf76-0fcb36d56205"
      },
      "execution_count": 3,
      "outputs": [
        {
          "output_type": "stream",
          "name": "stdout",
          "text": [
            "🔹 Carregando apenas uma amostra do dataset...\n",
            "Número total de registros carregados: 2.574.808\n"
          ]
        }
      ]
    },
    {
      "cell_type": "code",
      "source": [
        "# Dicionário com as conversões recomendadas para cada variável\n",
        "conversoes = {\n",
        "    'REF_BACEN': 'str',  # Código identificador, manter como string\n",
        "    'NU_ORDEM': 'str',  # Número de ordem, mas é um identificador também, manter string\n",
        "    #'CNPJ_IF': 'str',  # Identificador de instituição financeira\n",
        "    'DT_EMISSAO': 'datetime64[ns]',  # Data de emissão do contrato\n",
        "    #'DT_VENCIMENTO': 'datetime64[ns]',  # Data de vencimento do contrato\n",
        "    'CD_INST_CREDITO': 'str',  # Código da instituição financeira, manter string\n",
        "    #'CD_CATEG_EMITENTE': 'str',  # Categoria do emitente\n",
        "    'CD_FONTE_RECURSO': 'str',  # Código da fonte de recurso, manter string\n",
        "    #'CNPJ_AGENTE_INVEST': 'str',  # Identificador do agente investidor\n",
        "    'CD_ESTADO': 'str',  # Código de estado (UF), manter string\n",
        "    #'CD_REF_BACEN_INVESTIMENTO': 'str',  # Código de referência Bacen para investimento\n",
        "    #'CD_TIPO_SEGURO': 'str',  # Código do tipo de seguro\n",
        "    #'CD_EMPREENDIMENTO': 'str',  # Código do empreendimento\n",
        "    'CD_PROGRAMA': 'str',  # Código do programa de crédito\n",
        "    #'CD_TIPO_ENCARG_FINANC': 'str',  # Tipo de encargo financeiro\n",
        "    #'CD_TIPO_IRRIGACAO': 'str',  # Tipo de irrigação utilizada\n",
        "    #'CD_TIPO_AGRICULTURA': 'str',  # Tipo de agricultura praticada\n",
        "    'CD_FASE_CICLO_PRODUCAO': 'str',  # Fase do ciclo de produção, manter string\n",
        "    #'CD_TIPO_CULTIVO': 'str',  # Tipo de cultivo agrícola\n",
        "    #'CD_TIPO_INTGR_CONSOR': 'str',  # Tipo de integração consorciada\n",
        "    #'CD_TIPO_GRAO_SEMENTE': 'str',  # Tipo de grão/semente plantado\n",
        "    #'VL_ALIQ_PROAGRO': 'float64',  # Percentual de alíquota Proagro\n",
        "    'VL_JUROS': 'float64',  # Taxa de juros, valor decimal\n",
        "    #'VL_PRESTACAO_INVESTIMENTO': 'float64',  # Valor da prestação de investimento\n",
        "    #'VL_PREV_PROD': 'float64',  # Valor previsto da produção\n",
        "    #'VL_QUANTIDADE': 'float64',  # Quantidade financiada\n",
        "    #'VL_RECEITA_BRUTA_ESPERADA': 'float64',  # Receita bruta esperada\n",
        "    'VL_PARC_CREDITO': 'float64',  # Valor da parcela de crédito\n",
        "    #'VL_REC_PROPRIO': 'float64',  # Receita própria do produtor\n",
        "    #'VL_PERC_RISCO_STN': 'float64',  # Percentual de risco do STN\n",
        "    #'VL_PERC_RISCO_FUNDO_CONST': 'float64',  # Percentual de risco do fundo\n",
        "    #'VL_REC_PROPRIO_SRV': 'float64',  # Receita própria de serviço\n",
        "    #'VL_AREA_FINANC': 'float64',  # Área financiada em hectares\n",
        "    'CD_SUBPROGRAMA': 'str',  # Código do subprograma de financiamento\n",
        "    #'VL_PRODUTIV_OBTIDA': 'float64',  # Produtividade obtida na lavoura\n",
        "    #'DT_FIM_COLHEITA': 'datetime64[ns]',  # Data fim da colheita\n",
        "    #'DT_FIM_PLANTIO': 'datetime64[ns]',  # Data fim do plantio\n",
        "    #'DT_INIC_COLHEITA': 'datetime64[ns]',  # Data início da colheita\n",
        "    #'DT_INIC_PLANTIO': 'datetime64[ns]',  # Data início do plantio\n",
        "    #'VL_JUROS_ENC_FINAN_POSFIX': 'float64',  # Juros pós-fixados\n",
        "    #'VL_PERC_CUSTO_EFET_TOTAL': 'float64',  # Percentual de custo efetivo total\n",
        "    #'CD_CONTRATO_STN': 'str',  # Código do contrato STN\n",
        "    #'CD_CNPJ_CADASTRANTE': 'str',  # CNPJ do cadastrante\n",
        "    'VL_AREA_INFORMADA': 'float64',  # Área informada em hectares\n",
        "    #'CD_CICLO_CULTIVAR': 'str',  # Ciclo da cultivar (curto, médio, longo)\n",
        "    #'CD_TIPO_SOLO': 'str',  # Tipo de solo utilizado\n",
        "    #'PC_BONUS_CAR': 'float64',  # Percentual de bônus CAR\n",
        "    #'MES': 'Int64',  # Número do mês\n",
        "    #'SEMESTRE': 'Int64',  # Número do semestre\n",
        "    'ANO': 'Int64',  # Ano do financiamento\n",
        "    #'SAFRA': 'str',  # Safra agrícola\n",
        "    #'PROGRAMA_DESCRICAO': 'str',  # Descrição do programa\n",
        "    #'CD_IBGE_MUNICIPIO': 'str',  # Código IBGE do município\n",
        "    'CD_CPF_CNPJ': 'str',  # CPF/CNPJ do tomador de crédito\n",
        "    'SEXO_BIOLOGICO': 'category'  # Masculino ou Feminino\n",
        "    #'CD_DAP': 'str', #'Código do DAP'\n",
        "}\n",
        "\n",
        "# Filtrar apenas as colunas de interesse\n",
        "df = df[list(conversoes.keys())]\n",
        "\n",
        "# Aplicar conversão ao DataFrame\n",
        "df = df.astype(conversoes)\n",
        "\n",
        "# Exibir tipos para conferir a conversão\n",
        "print(df.dtypes)"
      ],
      "metadata": {
        "colab": {
          "base_uri": "https://localhost:8080/"
        },
        "id": "WLEf_ffb9DNU",
        "outputId": "bd9110e9-f6fc-43f6-fbdc-aa0a89577e42"
      },
      "execution_count": 4,
      "outputs": [
        {
          "output_type": "stream",
          "name": "stdout",
          "text": [
            "REF_BACEN                         object\n",
            "NU_ORDEM                          object\n",
            "DT_EMISSAO                datetime64[ns]\n",
            "CD_INST_CREDITO                   object\n",
            "CD_FONTE_RECURSO                  object\n",
            "CD_ESTADO                         object\n",
            "CD_PROGRAMA                       object\n",
            "CD_FASE_CICLO_PRODUCAO            object\n",
            "VL_JUROS                         float64\n",
            "VL_PARC_CREDITO                  float64\n",
            "CD_SUBPROGRAMA                    object\n",
            "VL_AREA_INFORMADA                float64\n",
            "ANO                                Int64\n",
            "CD_CPF_CNPJ                       object\n",
            "SEXO_BIOLOGICO                  category\n",
            "dtype: object\n"
          ]
        }
      ]
    }
  ]
}